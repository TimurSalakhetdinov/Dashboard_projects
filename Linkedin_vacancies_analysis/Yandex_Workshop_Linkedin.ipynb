{
  "nbformat": 4,
  "nbformat_minor": 0,
  "metadata": {
    "colab": {
      "provenance": []
    },
    "kernelspec": {
      "name": "python3",
      "display_name": "Python 3"
    },
    "language_info": {
      "name": "python"
    }
  },
  "cells": [
    {
      "cell_type": "markdown",
      "source": [
        "# Анализ вакансии для аналитиков данных"
      ],
      "metadata": {
        "id": "vNMCoR9O7bIE"
      }
    },
    {
      "cell_type": "markdown",
      "source": [
        "- Проект: Анализ вакансии для аналитиков данных\n",
        "- Цель: Визуализировать информацию о рынке вакансий для аналитиков в Европе"
      ],
      "metadata": {
        "id": "UuKSWTqErnYr"
      }
    },
    {
      "cell_type": "markdown",
      "source": [
        "## План действий"
      ],
      "metadata": {
        "id": "efEKMGW6sDaJ"
      }
    },
    {
      "cell_type": "markdown",
      "source": [
        "1. Распарсить предоставленный csv файл с помощью BS 4, создав следующие признаки:\n",
        "- наименование вакансии\n",
        "- город\n",
        "- страна\n",
        "- тип занятости (online, hybride, on-site)\n",
        "- компания\n",
        "- размер компании (количество работников)\n",
        "- сфера деятельности компании\n",
        "- требуемые хард скилы\n",
        "- дата публикации вакансии\n",
        "- количество кандидатов на вакансию\n",
        "2. Подготовка данных\n",
        "  - Определить требуемые хард скилы и тип занятости (online, hybride, on-site) для каждой вакансии.\n",
        "3. Подготовка данных к визуализации\n",
        "  - Проверить данные на дубликаты и не релевантные заданию вакансии.\n",
        "  - Удалить ненужные атрибуты (признаки).\n",
        "4. Визуализация данных\n",
        "  - Построить интерактивный дашборд в любой из BI систем."
      ],
      "metadata": {
        "id": "JUJs4m2N78Fa"
      }
    },
    {
      "cell_type": "markdown",
      "source": [
        "## Подготовка данных"
      ],
      "metadata": {
        "id": "CWzGNxjn7a8T"
      }
    },
    {
      "cell_type": "code",
      "execution_count": null,
      "metadata": {
        "id": "LuO5E05E8R6U"
      },
      "outputs": [],
      "source": [
        "# Импортируем библиотеки:\n",
        "import pandas as pd\n",
        "from bs4 import BeautifulSoup\n",
        "from IPython.display import display, HTML\n",
        "import matplotlib.pyplot as plt\n",
        "import seaborn as sns\n",
        "import numpy as np\n",
        "import math\n",
        "from scipy import stats as st\n",
        "import re\n",
        "from datetime import datetime\n",
        "from dateutil.relativedelta import relativedelta\n",
        "\n",
        "# Закрепим формат float:\n",
        "pd.set_option('display.float_format', '{:,.2f}'.format)\n",
        "\n",
        "# Уберем предупреждения:\n",
        "import warnings\n",
        "warnings.simplefilter('ignore')"
      ]
    },
    {
      "cell_type": "code",
      "source": [
        "# Загрузим датасет из облака\n",
        "!gdown 1Q5RyXLmjhJ8L55ya9F2CP95Whq7UZ6q3"
      ],
      "metadata": {
        "colab": {
          "base_uri": "https://localhost:8080/"
        },
        "id": "1YQcnXq7hpHI",
        "outputId": "2eec8e86-d348-41c9-becb-0046a4c91527"
      },
      "execution_count": null,
      "outputs": [
        {
          "output_type": "stream",
          "name": "stdout",
          "text": [
            "Downloading...\n",
            "From: https://drive.google.com/uc?id=1Q5RyXLmjhJ8L55ya9F2CP95Whq7UZ6q3\n",
            "To: /content/masterskaya_parsing_LinkedIn_2023_05_23.csv\n",
            "\r  0% 0.00/28.5M [00:00<?, ?B/s]\r 68% 19.4M/28.5M [00:00<00:00, 190MB/s]\r100% 28.5M/28.5M [00:00<00:00, 220MB/s]\n"
          ]
        }
      ]
    },
    {
      "cell_type": "code",
      "source": [
        "# Сохраним данные из датасетов:\n",
        "df = pd.read_csv('masterskaya_parsing_LinkedIn_2023_05_23.csv', index_col=0)"
      ],
      "metadata": {
        "id": "-mpdky4r9Hpj"
      },
      "execution_count": null,
      "outputs": []
    },
    {
      "cell_type": "code",
      "source": [
        "# Выведем первую вакансию\n",
        "display(HTML(df['html'][3]))"
      ],
      "metadata": {
        "colab": {
          "base_uri": "https://localhost:8080/",
          "height": 918
        },
        "id": "OXwM8aoO9oVU",
        "outputId": "6f4d9448-2a48-4e01-8568-f17d911d5528"
      },
      "execution_count": null,
      "outputs": [
        {
          "output_type": "display_data",
          "data": {
            "text/plain": [
              "<IPython.core.display.HTML object>"
            ],
            "text/html": [
              "\n",
              "  <div>\n",
              "    <div class=\"\n",
              "        jobs-details__main-content jobs-details__main-content--single-pane full-width\n",
              "        \">\n",
              "        \n",
              "<!---->\n",
              "      \n",
              "      <div>\n",
              "        <div class=\"jobs-unified-top-card t-14\">\n",
              "    <span class=\"visibility-hidden\"></span>\n",
              "  <div class=\"relative\n",
              "      jobs-unified-top-card__container--two-pane\">\n",
              "\n",
              "    <div class=\"jobs-unified-top-card__content--two-pane\">\n",
              "<!---->\n",
              "        <a href=\"/jobs/view/3604510348/?alternateChannel=search&amp;refId=AxoCJAz0Vnn3xzCIlNO7ng%3D%3D&amp;trackingId=TZ9MZqn%2BPxDfFHiX%2FEYf9A%3D%3D&amp;trk=d_flagship3_search_srp_jobs\" id=\"ember425\" class=\"ember-view\">\n",
              "          <h2 class=\"t-24 t-bold jobs-unified-top-card__job-title\">Data Analyst (Space &amp; Planning)</h2>\n",
              "        </a>\n",
              "\n",
              "      <div class=\"jobs-unified-top-card__primary-description\">\n",
              "          <span class=\"jobs-unified-top-card__subtitle-primary-grouping t-black\">\n",
              "            <span class=\"jobs-unified-top-card__company-name\">\n",
              "                  <a href=\"#\" id=\"ember426\" class=\"loading ember-view t-black t-normal\">\n",
              "                    Mole Valley Farmers\n",
              "                  </a>\n",
              "            </span>\n",
              "              <span class=\"jobs-unified-top-card__bullet\">\n",
              "                South Molton, England, United Kingdom\n",
              "              </span>\n",
              "\n",
              "              <span class=\"jobs-unified-top-card__workplace-type\">On-site</span>\n",
              "          </span>\n",
              "          <span class=\"jobs-unified-top-card__subtitle-secondary-grouping t-black--light\">\n",
              "              <span class=\"jobs-unified-top-card__posted-date\n",
              "                  \">\n",
              "                1 week ago\n",
              "              </span>\n",
              "<!---->          </span>\n",
              "      </div>\n",
              "\n",
              "      <div class=\"mt5 mb2\">\n",
              "          <div class=\"jobs-ghost-fadein-placeholder\">\n",
              "            <div class=\"jobs-ghost-placeholder jobs-ghost-placeholder--medium mb3\"></div>\n",
              "            <div class=\"jobs-ghost-placeholder jobs-ghost-placeholder--medium mb3\"></div>\n",
              "            <div class=\"jobs-ghost-placeholder jobs-ghost-placeholder--medium mb3\"></div>\n",
              "            <div class=\"jobs-ghost-placeholder jobs-ghost-placeholder--medium\"></div>\n",
              "          </div>\n",
              "      </div>\n",
              "\n",
              "      <div class=\"mt5\">\n",
              "          <div class=\"display-flex\">\n",
              "<!---->              <button class=\"jobs-save-button artdeco-button artdeco-button--3 artdeco-button--secondary\" type=\"button\" disabled=\"\">\n",
              "<!---->    <span aria-hidden=\"true\">\n",
              "      Save\n",
              "    </span>\n",
              "</button>\n",
              "          </div>\n",
              "\n",
              "<!---->\n",
              "<!----><!---->      </div>\n",
              "\n",
              "<!---->\n",
              "<!---->\n",
              "<!----><!---->\n",
              "<!---->    </div>\n",
              "\n",
              "<!---->\n",
              "<!---->\n",
              "    <div class=\"jobs-unified-top-card__buttons-container absolute\">\n",
              "      <div class=\"display-flex flex-column\">\n",
              "        <div class=\"display-flex justify-flex-end\">\n",
              "            <div id=\"ember427\" class=\"artdeco-dropdown artdeco-dropdown--placement-bottom artdeco-dropdown--justification-right ember-view\">\n",
              "    <button aria-expanded=\"false\" aria-label=\"Share\" id=\"ember428\" class=\"social-share__dropdown-trigger artdeco-button artdeco-button--3 artdeco-button--tertiary artdeco-button--circle artdeco-button--muted artdeco-dropdown__trigger artdeco-dropdown__trigger--placement-bottom ember-view\" type=\"button\" tabindex=\"0\">\n",
              "      <li-icon aria-hidden=\"true\" type=\"share-linkedin\" class=\"artdeco-button__icon\" size=\"medium\"><svg xmlns=\"http://www.w3.org/2000/svg\" viewBox=\"0 0 24 24\" data-supported-dps=\"24x24\" fill=\"currentColor\" class=\"mercado-match\" width=\"24\" height=\"24\" focusable=\"false\">\n",
              "  <path d=\"M23 12l-4.61 7H16l4-6H8a3.92 3.92 0 00-4 3.84V17a4 4 0 00.19 1.24L5.12 21H3l-.73-2.22A6.4 6.4 0 012 16.94 6 6 0 018 11h12l-4-6h2.39z\"></path>\n",
              "</svg></li-icon>\n",
              "      <span class=\"artdeco-button__text\">Share</span>\n",
              "    \n",
              "<!----></button>\n",
              "\n",
              "  <div tabindex=\"-1\" aria-hidden=\"true\" id=\"ember429\" class=\"social-share__content text-align-left artdeco-dropdown__content artdeco-dropdown--is-dropdown-element artdeco-dropdown__content--has-arrow artdeco-dropdown__content--arrow-right artdeco-dropdown__content--justification-right artdeco-dropdown__content--placement-bottom ember-view\"><!----></div>\n",
              "</div>\n",
              "\n",
              "<div>\n",
              "    \n",
              "<!---->  \n",
              "\n",
              "</div>\n",
              "\n",
              "<!---->\n",
              "\n",
              "<!---->\n",
              "            <div id=\"ember430\" class=\"artdeco-dropdown jobs-options artdeco-dropdown--placement-bottom artdeco-dropdown--justification-right ember-view\">\n",
              "  \n",
              "              <button aria-expanded=\"false\" id=\"ember431\" class=\"artdeco-button artdeco-button--3 artdeco-button--tertiary artdeco-button--muted artdeco-button--circle artdeco-dropdown__trigger artdeco-dropdown__trigger--placement-bottom ember-view\" type=\"button\" tabindex=\"0\">\n",
              "                <li-icon aria-hidden=\"true\" type=\"overflow-web-ios\" class=\"artdeco-button__icon\"><svg xmlns=\"http://www.w3.org/2000/svg\" viewBox=\"0 0 24 24\" data-supported-dps=\"24x24\" fill=\"currentColor\" class=\"mercado-match\" width=\"24\" height=\"24\" focusable=\"false\">\n",
              "  <path d=\"M14 12a2 2 0 11-2-2 2 2 0 012 2zM4 10a2 2 0 102 2 2 2 0 00-2-2zm16 0a2 2 0 102 2 2 2 0 00-2-2z\"></path>\n",
              "</svg></li-icon>\n",
              "                <span class=\"artdeco-button__text\">\n",
              "                  Show more options\n",
              "                </span>\n",
              "              \n",
              "<!----></button>\n",
              "            \n",
              "  <div tabindex=\"-1\" aria-hidden=\"true\" id=\"ember432\" class=\"artdeco-dropdown__content artdeco-dropdown--is-dropdown-element artdeco-dropdown__content--has-arrow artdeco-dropdown__content--arrow-right artdeco-dropdown__content--justification-right artdeco-dropdown__content--placement-bottom ember-view\"><!----></div>\n",
              "</div>\n",
              "        </div>\n",
              "<!---->      </div>\n",
              "    </div>\n",
              "  </div>\n",
              "    <div class=\"jobs-unified-top-card__sticky-header\n",
              "        jobs-unified-top-card__sticky-header--disabled\">\n",
              "      <div class=\"jobs-unified-top-card__title-container\">\n",
              "          <a data-control-id=\"TZ9MZqn+PxDfFHiX/EYf9A==\" href=\"/jobs/view/3604510348/?alternateChannel=search&amp;refId=AxoCJAz0Vnn3xzCIlNO7ng%3D%3D&amp;trackingId=TZ9MZqn%2BPxDfFHiX%2FEYf9A%3D%3D&amp;trk=d_flagship3_search_srp_jobs\" id=\"ember433\" class=\"ember-view\">\n",
              "            <h2 class=\"t-16 t-black t-bold truncate\">\n",
              "              Data Analyst (Space &amp; Planning)\n",
              "            </h2>\n",
              "          </a>\n",
              "        <div class=\"t-14 truncate\">\n",
              "          <span>Mole Valley Farmers</span>\n",
              "            <span class=\"jobs-unified-top-card__bullet\">South Molton, England, United Kingdom</span>\n",
              "            <span class=\"jobs-unified-top-card__workplace-type\">On-site</span>\n",
              "        </div>\n",
              "      </div>\n",
              "      <div class=\"jobs-unified-top-card__sticky-buttons-container\">\n",
              "<!---->\n",
              "          <button class=\"jobs-save-button mr2 artdeco-button artdeco-button--2 artdeco-button--secondary\" aria-expanded=\"false\" type=\"button\" disabled=\"\">\n",
              "<!---->    <span aria-hidden=\"true\">\n",
              "      Save\n",
              "    </span>\n",
              "</button>\n",
              "\n",
              "        <div id=\"ember434\" class=\"artdeco-dropdown jobs-options artdeco-dropdown--placement-bottom artdeco-dropdown--justification-right ember-view inline-flex\">\n",
              "  \n",
              "          <button aria-expanded=\"false\" id=\"ember435\" class=\"artdeco-button artdeco-button--2 artdeco-button--tertiary artdeco-button--muted artdeco-button--circle artdeco-dropdown__trigger artdeco-dropdown__trigger--placement-bottom ember-view\" type=\"button\" tabindex=\"0\">\n",
              "\n",
              "            <li-icon aria-hidden=\"true\" type=\"overflow-web-ios\" class=\"artdeco-button__icon\"><svg xmlns=\"http://www.w3.org/2000/svg\" viewBox=\"0 0 24 24\" data-supported-dps=\"24x24\" fill=\"currentColor\" class=\"mercado-match\" width=\"24\" height=\"24\" focusable=\"false\">\n",
              "  <path d=\"M14 12a2 2 0 11-2-2 2 2 0 012 2zM4 10a2 2 0 102 2 2 2 0 00-2-2zm16 0a2 2 0 102 2 2 2 0 00-2-2z\"></path>\n",
              "</svg></li-icon>\n",
              "            <span class=\"artdeco-button__text\">\n",
              "              Show more options\n",
              "            </span>\n",
              "          \n",
              "<!----></button>\n",
              "        \n",
              "  <div tabindex=\"-1\" aria-hidden=\"true\" id=\"ember436\" class=\"artdeco-dropdown__content artdeco-dropdown--is-dropdown-element artdeco-dropdown__content--has-arrow artdeco-dropdown__content--arrow-right artdeco-dropdown__content--justification-right artdeco-dropdown__content--placement-bottom ember-view\"><!----></div>\n",
              "</div>\n",
              "      </div>\n",
              "    </div>\n",
              "</div>\n",
              "<!---->\n",
              "<!---->\n",
              "<!---->      </div>\n",
              "\n",
              "<!---->\n",
              "        <div class=\"jobs-box--fadein jobs-box--full-width jobs-box--with-cta-large jobs-description\n",
              "    \n",
              "    \n",
              "    \n",
              "     jobs-description--reformatted\n",
              "    \n",
              "    \">\n",
              "\n",
              "<!---->\n",
              "  <article class=\"jobs-description__container\n",
              "      m4\">\n",
              "    <div class=\"jobs-description__content jobs-description-content\n",
              "        \">\n",
              "      <div class=\"jobs-box__html-content jobs-description-content__text t-14 t-normal\n",
              "          jobs-description-content__text--stretch\" id=\"job-details\" tabindex=\"-1\">\n",
              "        <h2 class=\"text-heading-large mb4\">\n",
              "          About the job\n",
              "        </h2>\n",
              "\n",
              "<!---->\n",
              "<!---->        <span>\n",
              "                <strong><!---->Salary:<!----></strong><span class=\"white-space-pre\"> </span>To be discussed on application<!----><p><br></p><strong><!---->Location:<!----></strong><span class=\"white-space-pre\"> </span>Hybrid Working, Home working &amp; Head Office, EX36 3LH<!----><p><br></p><strong><!---->Contract Type:<span class=\"white-space-pre\"> </span></strong><!---->Permanent<!----><p><br></p><strong><!---->Contracted Hours:<span class=\"white-space-pre\"> </span></strong><!---->Full time, 37.5 hours per week, Monday to Friday<!----><p><br></p><!---->Here at Mole Valley Farmers we have an exciting opportunity for a Space &amp; Planogram Planning Assistant to join our Merchandise Planning team.<!----><p><br></p><!---->You will maintain the space and Merchandising requirements with the Procurement &amp; Retail Operations teams for the Business, ensuring full optimisation of space &amp; delivery of planogram implementation.<!----><p><br></p><strong><!---->What you will be doing as a Space &amp; Planogram Planning Assistant…<!----></strong><p><br></p>      <ul><li><!---->Analysing historic Space &amp; Sales performance, presenting key facts and trends<!----></li><li><!---->Working with Product Manager &amp; Merchandise Planner to develop the optimum layouts within the Mock shop as required for their Categories<!----></li><li><!---->Using Financial analysis to feed into the Range planning process, working with the Product Manager &amp; Merchandise Planner.<!----></li><li><!---->Producing planograms for categories and creating Head Office Bulletins to ensure implementation in stores, working within agreed critical path and process.<!----></li></ul>\n",
              "<p><br></p><strong><!---->We would love to hear from you if you have….<!----></strong><p><br></p>      <ul><li><!---->Good Excel knowledge<!----></li><li><!---->Strong analytic nature<!----></li><li><!---->You are highly organised with strong attention to detail<!----></li><li><!---->You are self-motivated but also enjoy working as part of a team<!----></li></ul>\n",
              "<p><br></p><!---->Please note, this vacancy may close prior to the expiry date if we have received a suitable number of applications.<!---->\n",
              "<!---->        </span>\n",
              "      </div>\n",
              "<!---->      <div class=\"jobs-description__details\">\n",
              "          <div class=\"pt3\">\n",
              "            <div class=\"jobs-ghost-fadein-placeholder\">\n",
              "  <div class=\"jobs-ghost-placeholder jobs-ghost-placeholder--x-small jobs-ghost-placeholder--thick mb2\"></div>\n",
              "  <div class=\"jobs-ghost-placeholder jobs-ghost-placeholder--small jobs-ghost-placeholder--thick mb5\"></div>\n",
              "  <div class=\"jobs-ghost-placeholder jobs-ghost-placeholder--x-small jobs-ghost-placeholder--thick mb2\"></div>\n",
              "  <div class=\"jobs-ghost-placeholder jobs-ghost-placeholder--small jobs-ghost-placeholder--thick mb5\"></div>\n",
              "  <div class=\"jobs-ghost-placeholder jobs-ghost-placeholder--x-small jobs-ghost-placeholder--thick mb2\"></div>\n",
              "  <div class=\"jobs-ghost-placeholder jobs-ghost-placeholder--small jobs-ghost-placeholder--thick mb5\"></div>\n",
              "  <div class=\"jobs-ghost-placeholder jobs-ghost-placeholder--x-small jobs-ghost-placeholder--thick mb2\"></div>\n",
              "  <div class=\"jobs-ghost-placeholder jobs-ghost-placeholder--small jobs-ghost-placeholder--thick mb5\"></div>\n",
              "  <div class=\"jobs-ghost-placeholder jobs-ghost-placeholder--x-small jobs-ghost-placeholder--thick mb2\"></div>\n",
              "  <div class=\"jobs-ghost-placeholder jobs-ghost-placeholder--small jobs-ghost-placeholder--thick mb5\"></div>\n",
              "  <div class=\"jobs-ghost-placeholder jobs-ghost-placeholder--x-small jobs-ghost-placeholder--thick mb2\"></div>\n",
              "  <div class=\"jobs-ghost-placeholder jobs-ghost-placeholder--small jobs-ghost-placeholder--thick mb5\"></div>\n",
              "</div>\n",
              "          </div>\n",
              "      </div>\n",
              "    </div>\n",
              "  </article>\n",
              "<!----></div>\n",
              "<!---->\n",
              "        <div class=\"display-flex justify-center\">\n",
              "          <div id=\"ember915\" class=\"artdeco-loader ember-view\"><div class=\"a11y-text\" role=\"alert\" data-test-loader-a11y=\"\">Loading job details</div>\n",
              "<span class=\"artdeco-loader__bars\"></span>\n",
              "<span class=\"artdeco-loader__bars\"></span>\n",
              "<span class=\"artdeco-loader__bars\"></span>\n",
              "<span class=\"artdeco-loader__bars\"></span>\n",
              "<span class=\"artdeco-loader__bars\"></span>\n",
              "<span class=\"artdeco-loader__bars\"></span>\n",
              "<span class=\"artdeco-loader__bars\"></span>\n",
              "<span class=\"artdeco-loader__bars\"></span>\n",
              "<span class=\"artdeco-loader__bars\"></span>\n",
              "<span class=\"artdeco-loader__bars\"></span>\n",
              "<span class=\"artdeco-loader__bars\"></span>\n",
              "<span class=\"artdeco-loader__bars\"></span>\n",
              "</div>\n",
              "        </div>\n",
              "    </div>\n",
              "\n",
              "<!---->  </div>\n",
              "\n",
              "  <div id=\"ember438\" class=\"ember-view\"><!----></div>\n",
              "\n",
              "<div id=\"ember439\" class=\"ember-view\"><div id=\"ember440\" class=\"ember-view\"><!----></div></div>\n",
              "\n",
              "  <div id=\"ember441\" class=\"ember-view\"><!----></div>\n",
              "\n",
              "<!---->\n",
              "<!---->\n",
              "<!---->\n",
              "  <div>\n",
              "    <div id=\"ember442\" class=\"ember-view\"><!----></div>\n",
              "</div>\n",
              "\n",
              "<!---->"
            ]
          },
          "metadata": {}
        }
      ]
    },
    {
      "cell_type": "code",
      "source": [
        "# Потестируем парсинг данных на первой вакансии, потом спарсим все через фукнцию\n",
        "html = df['html'][0]"
      ],
      "metadata": {
        "id": "NmmoL8_AruEL"
      },
      "execution_count": null,
      "outputs": []
    },
    {
      "cell_type": "code",
      "source": [
        "# Применим BeautifulSoup\n",
        "soup = BeautifulSoup(html)"
      ],
      "metadata": {
        "id": "C0cv4CEit4xL"
      },
      "execution_count": null,
      "outputs": []
    },
    {
      "cell_type": "code",
      "source": [
        "# Получим наименование вакансии\n",
        "title = soup.find('h2', class_ = 't-24 t-bold jobs-unified-top-card__job-title').text.strip()\n",
        "title"
      ],
      "metadata": {
        "colab": {
          "base_uri": "https://localhost:8080/",
          "height": 35
        },
        "id": "X0z5x2-HuGfa",
        "outputId": "58f82d32-ae7d-4992-e493-54b728b525a2"
      },
      "execution_count": null,
      "outputs": [
        {
          "output_type": "execute_result",
          "data": {
            "text/plain": [
              "'Data Analyst'"
            ],
            "application/vnd.google.colaboratory.intrinsic+json": {
              "type": "string"
            }
          },
          "metadata": {},
          "execution_count": 12
        }
      ]
    },
    {
      "cell_type": "code",
      "source": [
        "# Получим город\n",
        "city = soup.find('span', class_ = 'jobs-unified-top-card__bullet').text.strip().split()[0].rstrip(',')\n",
        "city"
      ],
      "metadata": {
        "colab": {
          "base_uri": "https://localhost:8080/",
          "height": 35
        },
        "id": "W_U5YMkxuci7",
        "outputId": "8d15f9c5-9e22-49e5-e93a-cce2dbee79d4"
      },
      "execution_count": null,
      "outputs": [
        {
          "output_type": "execute_result",
          "data": {
            "text/plain": [
              "'Basel'"
            ],
            "application/vnd.google.colaboratory.intrinsic+json": {
              "type": "string"
            }
          },
          "metadata": {},
          "execution_count": 13
        }
      ]
    },
    {
      "cell_type": "code",
      "source": [
        "# Получим страну\n",
        "country = soup.find('span', class_ = 'jobs-unified-top-card__bullet').text.strip().split(',')[-1]\n",
        "country"
      ],
      "metadata": {
        "colab": {
          "base_uri": "https://localhost:8080/",
          "height": 35
        },
        "id": "FPJoNMVIuLjL",
        "outputId": "bc5c569c-8b59-4902-c9d7-e4aa64320dee"
      },
      "execution_count": null,
      "outputs": [
        {
          "output_type": "execute_result",
          "data": {
            "text/plain": [
              "' Switzerland'"
            ],
            "application/vnd.google.colaboratory.intrinsic+json": {
              "type": "string"
            }
          },
          "metadata": {},
          "execution_count": 14
        }
      ]
    },
    {
      "cell_type": "code",
      "source": [
        "# тип занятости (online, hybride, on-site)\n",
        "employment_type = soup.find('span', class_ = 'jobs-unified-top-card__workplace-type').text.strip()\n",
        "employment_type"
      ],
      "metadata": {
        "colab": {
          "base_uri": "https://localhost:8080/",
          "height": 35
        },
        "id": "eF4sXXrhvG3x",
        "outputId": "6b5c1c4b-d3da-44ae-af0d-42438205f7ee"
      },
      "execution_count": null,
      "outputs": [
        {
          "output_type": "execute_result",
          "data": {
            "text/plain": [
              "'On-site'"
            ],
            "application/vnd.google.colaboratory.intrinsic+json": {
              "type": "string"
            }
          },
          "metadata": {},
          "execution_count": 15
        }
      ]
    },
    {
      "cell_type": "code",
      "source": [
        "# Получим компанию\n",
        "company_name = soup.find('a', class_ = 'ember-view t-black t-normal').text.strip()\n",
        "company_name"
      ],
      "metadata": {
        "id": "SKhMeLyXux9-",
        "colab": {
          "base_uri": "https://localhost:8080/",
          "height": 35
        },
        "outputId": "583a7f61-b476-4537-bf53-df33226e6896"
      },
      "execution_count": null,
      "outputs": [
        {
          "output_type": "execute_result",
          "data": {
            "text/plain": [
              "'PharmiWeb.Jobs: Global Life Science Jobs'"
            ],
            "application/vnd.google.colaboratory.intrinsic+json": {
              "type": "string"
            }
          },
          "metadata": {},
          "execution_count": 16
        }
      ]
    },
    {
      "cell_type": "code",
      "source": [
        "# размер компании (количество работников)\n",
        "employee_qty = soup.find('span', class_ = 'jobs-company__inline-information').text.strip()\n",
        "employee_qty"
      ],
      "metadata": {
        "colab": {
          "base_uri": "https://localhost:8080/",
          "height": 35
        },
        "id": "wO-J9FMN2HXl",
        "outputId": "421f6ca9-a4e7-4611-9230-3830ff792eac"
      },
      "execution_count": null,
      "outputs": [
        {
          "output_type": "execute_result",
          "data": {
            "text/plain": [
              "'11-50 employees'"
            ],
            "application/vnd.google.colaboratory.intrinsic+json": {
              "type": "string"
            }
          },
          "metadata": {},
          "execution_count": 17
        }
      ]
    },
    {
      "cell_type": "code",
      "source": [
        "# сфера деятельности компании\n",
        "company_field = soup.find('div', class_ = 't-14 mt5').text.strip().split('\\n')[0]\n",
        "company_field"
      ],
      "metadata": {
        "colab": {
          "base_uri": "https://localhost:8080/",
          "height": 35
        },
        "id": "MWYNeoo2vROS",
        "outputId": "be5cf1a9-ef32-4aeb-c754-3b5725ccfccd"
      },
      "execution_count": null,
      "outputs": [
        {
          "output_type": "execute_result",
          "data": {
            "text/plain": [
              "'Staffing & Recruiting'"
            ],
            "application/vnd.google.colaboratory.intrinsic+json": {
              "type": "string"
            }
          },
          "metadata": {},
          "execution_count": 18
        }
      ]
    },
    {
      "cell_type": "code",
      "source": [
        "# Список скилов\n",
        "skills = [\n",
        "    'a/b testing', 'ab testing', 'actian', 'adobe analytics', 'adobe audience manager',\n",
        "    'adobe experience platform', 'adobe launch', 'adobe target', 'ai', 'airflow',\n",
        "    'alooma', 'alteryx', 'amazon machine learning', 'amazon web services', 'aml',\n",
        "    'amplitude', 'ansible', 'apache camel', 'apache nifi', 'apache spark',\n",
        "    'api', 'asana', 'auth0', 'aws', 'aws glue', 'azure', 'azure data factory',\n",
        "    'basecamp', 'bash', 'beats', 'big query', 'bigquery', 'birst', 'bitbucket',\n",
        "    'blendo', 'bootstrap', 'business objects bi', 'c#', 'c++', 'caffe', 'cassandra',\n",
        "    'cdata sync', 'chronograf', 'ci/cd', 'cicd', 'clickhouse', 'cloudera', 'cluvio',\n",
        "    'cntk', 'cognos', 'composer', 'computer vision', 'conda', 'confluence',\n",
        "    'couchbase', 'css', 'd3.js', 'dash', 'dashboard', 'data factory', 'data fusion',\n",
        "    'data mining', 'data studio', 'data warehouse', 'databricks', 'dataddo',\n",
        "    'dataflow', 'datahub', 'dataiku', 'datastage', 'dbconvert', 'dbeaver', 'dbt',\n",
        "    'deep learning', 'dl/ml', 'docker', 'domo', 'dune', 'dv360', 'dynamodb',\n",
        "    'elasticsearch', 'elt', 'erwin', 'etl', 'etleap', 'excel', 'facebook business manager',\n",
        "    'fivetran', 'fuzzy', 'ga360', 'gcp', 'gensim', 'ggplot', 'git', 'github', 'gitlab',\n",
        "    'google ads', 'google analytics', 'google cloud platform', 'google data flow',\n",
        "    'google optimize', 'google sheets', 'google tag manager', 'google workspace',\n",
        "    'grafana', 'hadoop', 'hana', 'hanagrafana', 'hbase', 'hdfs', 'hevo data', 'hightouch',\n",
        "    'hive', 'hivedatabricks', 'html', 'hubspot', 'ibm coremetrics', 'inetsoft',\n",
        "    'influxdb', 'informatica', 'integrate.io', 'iri voracity', 'izenda', 'java',\n",
        "    'java script', 'javascript', 'jenkins', 'jira', 'jmp', 'julia', 'jupyter',\n",
        "    'k2view', 'kafka', 'kantar', 'kapacitor', 'keras', 'kibana', 'kubernetes',\n",
        "    'lambda', 'linux', 'logstash', 'looker', 'lstm', 'luidgi', 'matillion', 'matlab',\n",
        "    'matplotlib', 'mendix', 'metabase', 'microsoft sql', 'microsoft sql server',\n",
        "    'microstrategy', 'miro', 'mixpanel', 'ml', 'ml flow', 'mlflow', 'mongodb', 'mxnet',\n",
        "    'mysql', 'natural nanguage processing', 'neo4j', 'nlp', 'nltk', 'nosql', 'numpy',\n",
        "    'oauth', 'octave', 'omniture', 'omnituregitlab', 'openshift', 'openstack',\n",
        "    'optimizely', 'oracle', 'oracle business intelligence', 'oracle data integrator',\n",
        "    'pandas', 'panorama', 'pentaho', 'plotly', 'postgre', 'postgresql', 'posthog',\n",
        "    'power amc', 'power bi', 'power point', 'powerbi', 'powerpivot', 'powerpoint',\n",
        "    'powerquery', 'pyspark', 'python', 'pytorch', 'pytorchhevo data', 'qlik',\n",
        "    'qlik sense', 'qlikview', 'querysurge', 'r', 'raphtory', 'rapidminer', 'redash',\n",
        "    'redis', 'redshift', 'retool', 'rivery', 'rust', 's3', 'sa360', 'salesforce', 'sap',\n",
        "    'sap business objects', 'sas', 'sas visual analytics', 'scala', 'scikit-learn',\n",
        "    'scipy', 'seaborn', 'segment', 'selenium', 'sem rush', 'semrush', 'shell', 'shiny',\n",
        "    'singer', 'sisense', 'skyvia', 'snowflake', 'spacy', 'spark', 'sparkml', 'splunk',\n",
        "    'spotfire', 'spreadsheet', 'spss', 'sql', 'ssis', 'sssr', 'stambia', 'statistics',\n",
        "    'statsbot', 'stitch', 'streamlit', 'streamsets', 'svn', 't-sql', 'tableau', 'talend',\n",
        "    'targit', 'tealium', 'telegraf', 'tensorflow', 'terraapi', 'terraform', 'theano',\n",
        "    'thoughtspot', 'timeseries', 'trello', 'unix', 'vba', 'vtom', 'webfocus', 'wfh',\n",
        "    'xplenty', 'xtract.io', 'yellowfin'\n",
        "]"
      ],
      "metadata": {
        "id": "qPGxnxeQ1l_Y"
      },
      "execution_count": null,
      "outputs": []
    },
    {
      "cell_type": "code",
      "source": [
        "# Функция для получения скиллов\n",
        "def skills_finder(cell, skill_list_2=skills):\n",
        "    matched_skills_list=[]\n",
        "    for i in skill_list_2:\n",
        "        if i == 'c++':\n",
        "          if re.search('\\Wc\\+\\+\\W', cell.lower()):\n",
        "            matched_skills_list.append(i)\n",
        "        # word_border + rewritten \"i\" in special symbols + word_border\n",
        "        else:\n",
        "          pattern = (\n",
        "            r'(\\b|\\W)'\n",
        "            + re.escape(i)\n",
        "            + r'(\\b|\\W)'\n",
        "            +'|'\n",
        "            + r'(\\b|\\W)'\n",
        "            +re.escape(i.replace(' ', ''))\n",
        "            + r'(\\b|\\W)'\n",
        "        )\n",
        "          if re.search(pattern, cell.lower()):\n",
        "              matched_skills_list.append(i)\n",
        "    return matched_skills_list"
      ],
      "metadata": {
        "id": "GFyaZDdN1riT"
      },
      "execution_count": null,
      "outputs": []
    },
    {
      "cell_type": "code",
      "source": [
        "# Описание вакансии\n",
        "job_description = soup.find('div', class_ = 'jobs-description__content jobs-description-content').text.strip()\n",
        "\n",
        "# Применим функцию к 'job_description'\n",
        "skills = skills_finder(job_description)\n",
        "\n",
        "# Выведем их\n",
        "print(skills)"
      ],
      "metadata": {
        "colab": {
          "base_uri": "https://localhost:8080/"
        },
        "id": "1t__BzJ-Bhip",
        "outputId": "ed7d5617-83d4-4eeb-8f2f-95973fe5e21f"
      },
      "execution_count": null,
      "outputs": [
        {
          "output_type": "stream",
          "name": "stdout",
          "text": [
            "['data mining', 'excel', 'sap', 'sas', 'spss', 'sql', 'statistics']\n"
          ]
        }
      ]
    },
    {
      "cell_type": "code",
      "source": [
        "# дата публикации вакансии\n",
        "date = soup.find('span', class_ = 'jobs-unified-top-card__posted-date').text.strip()\n",
        "date"
      ],
      "metadata": {
        "colab": {
          "base_uri": "https://localhost:8080/",
          "height": 35
        },
        "id": "6Are22J-vUq1",
        "outputId": "1061fd1f-445e-4921-9c74-076cb5a79407"
      },
      "execution_count": null,
      "outputs": [
        {
          "output_type": "execute_result",
          "data": {
            "text/plain": [
              "'1 week ago'"
            ],
            "application/vnd.google.colaboratory.intrinsic+json": {
              "type": "string"
            }
          },
          "metadata": {},
          "execution_count": 22
        }
      ]
    },
    {
      "cell_type": "code",
      "source": [
        "# количество кандидатов на вакансию\n",
        "applicants = soup.find('span', class_ = 'jobs-unified-top-card__applicant-count').text.strip().split()[0]\n",
        "applicants"
      ],
      "metadata": {
        "colab": {
          "base_uri": "https://localhost:8080/",
          "height": 35
        },
        "id": "TlElukw0vWaj",
        "outputId": "01dab4a8-bd19-4322-b379-11fe3f812b59"
      },
      "execution_count": null,
      "outputs": [
        {
          "output_type": "execute_result",
          "data": {
            "text/plain": [
              "'47'"
            ],
            "application/vnd.google.colaboratory.intrinsic+json": {
              "type": "string"
            }
          },
          "metadata": {},
          "execution_count": 23
        }
      ]
    },
    {
      "cell_type": "code",
      "source": [
        "# напишем функцию для парсинга всех данных\n",
        "def extract_data(df):\n",
        "    # Создадим пустой список\n",
        "    data = []\n",
        "\n",
        "    # Пройдем по всем данным\n",
        "    for html in df['html']:\n",
        "        # Создадим объект BeautifulSoup object\n",
        "        soup = BeautifulSoup(html, 'html.parser')\n",
        "\n",
        "        # Получим данные\n",
        "        try:\n",
        "            title = soup.find('h2', class_ = 't-24 t-bold jobs-unified-top-card__job-title').text.strip()\n",
        "        except AttributeError:\n",
        "            title = np.nan\n",
        "        try:\n",
        "            city = soup.find('span', class_ = 'jobs-unified-top-card__bullet').text.strip().split(',')[0]\n",
        "        except AttributeError:\n",
        "            city = np.nan\n",
        "        try:\n",
        "            country = soup.find('span', class_ = 'jobs-unified-top-card__bullet').text.strip().split(',')[-1]\n",
        "        except AttributeError:\n",
        "            country = np.nan\n",
        "        try:\n",
        "            employment_type = soup.find('span', class_ = 'jobs-unified-top-card__workplace-type').text.strip()\n",
        "        except AttributeError:\n",
        "            employment_type = np.nan\n",
        "        try:\n",
        "            company_name = soup.find('a', class_ = 'ember-view t-black t-normal').text.strip()\n",
        "        except AttributeError:\n",
        "            company_name = np.nan\n",
        "        try:\n",
        "            employee_qty = soup.find('span', class_ = 'jobs-company__inline-information').text.strip()\n",
        "        except AttributeError:\n",
        "            employee_qty = np.nan\n",
        "        try:\n",
        "            company_field = soup.find('div', class_ = 't-14 mt5').text.strip().split('\\n')[0]\n",
        "        except AttributeError:\n",
        "            company_field = np.nan\n",
        "        try:\n",
        "            skills = skills_finder(soup.find('div', class_ = 'jobs-description__content jobs-description-content').text.strip())\n",
        "        except AttributeError:\n",
        "            skills = np.nan\n",
        "        try:\n",
        "            date = soup.find('span', class_ = 'jobs-unified-top-card__posted-date').text.strip()\n",
        "        except AttributeError:\n",
        "            date = np.nan\n",
        "        try:\n",
        "            applicants = soup.find('span', class_ = 'jobs-unified-top-card__applicant-count').text.strip().split()[0]\n",
        "        except AttributeError:\n",
        "            applicants = np.nan\n",
        "\n",
        "        # Добавим данные в список\n",
        "        data.append([title, city, country, employment_type, company_name, employee_qty, company_field, skills, date, applicants])\n",
        "\n",
        "    # Конвертируем список в dataframe\n",
        "    result_df = pd.DataFrame(data, columns=['title', 'city', 'country', 'employment_type', 'company_name', 'employee_qty', 'company_field', 'skills', 'date', 'applicants'])\n",
        "\n",
        "    return result_df\n"
      ],
      "metadata": {
        "id": "E6Mq4b5nvYGN"
      },
      "execution_count": null,
      "outputs": []
    },
    {
      "cell_type": "code",
      "source": [
        "# применим функцию на данных\n",
        "result_df = extract_data(df)\n",
        "result_df.head()"
      ],
      "metadata": {
        "colab": {
          "base_uri": "https://localhost:8080/",
          "height": 204
        },
        "id": "43DJnAM51nRB",
        "outputId": "0bb1b469-3965-425e-d640-55ea91c74fe7"
      },
      "execution_count": null,
      "outputs": [
        {
          "output_type": "execute_result",
          "data": {
            "text/plain": [
              "                             title          city          country  \\\n",
              "0                     Data Analyst         Basel      Switzerland   \n",
              "1         Data Analyst - Logistics      Coventry   United Kingdom   \n",
              "2         Data Analyst - Logistics      Coventry   United Kingdom   \n",
              "3  Data Analyst (Space & Planning)  South Molton   United Kingdom   \n",
              "4                     Data Analyst        Lugano      Switzerland   \n",
              "\n",
              "  employment_type                              company_name     employee_qty  \\\n",
              "0         On-site  PharmiWeb.Jobs: Global Life Science Jobs  11-50 employees   \n",
              "1         On-site                                       NaN              NaN   \n",
              "2         On-site                                       NaN              NaN   \n",
              "3         On-site                                       NaN              NaN   \n",
              "4         On-site                                       NaN              NaN   \n",
              "\n",
              "           company_field                                             skills  \\\n",
              "0  Staffing & Recruiting  [data mining, excel, sap, sas, spss, sql, stat...   \n",
              "1                    NaN                                                 []   \n",
              "2                    NaN                                              [wfh]   \n",
              "3                    NaN                                            [excel]   \n",
              "4                    NaN  [aws, data warehouse, etl, gcp, oracle, oracle...   \n",
              "\n",
              "          date applicants  \n",
              "0   1 week ago         47  \n",
              "1   1 week ago        NaN  \n",
              "2   1 week ago        NaN  \n",
              "3   1 week ago        NaN  \n",
              "4  2 weeks ago        NaN  "
            ],
            "text/html": [
              "\n",
              "  <div id=\"df-4bcbe3e9-d89e-456d-9d8e-b3725ca6c99f\">\n",
              "    <div class=\"colab-df-container\">\n",
              "      <div>\n",
              "<style scoped>\n",
              "    .dataframe tbody tr th:only-of-type {\n",
              "        vertical-align: middle;\n",
              "    }\n",
              "\n",
              "    .dataframe tbody tr th {\n",
              "        vertical-align: top;\n",
              "    }\n",
              "\n",
              "    .dataframe thead th {\n",
              "        text-align: right;\n",
              "    }\n",
              "</style>\n",
              "<table border=\"1\" class=\"dataframe\">\n",
              "  <thead>\n",
              "    <tr style=\"text-align: right;\">\n",
              "      <th></th>\n",
              "      <th>title</th>\n",
              "      <th>city</th>\n",
              "      <th>country</th>\n",
              "      <th>employment_type</th>\n",
              "      <th>company_name</th>\n",
              "      <th>employee_qty</th>\n",
              "      <th>company_field</th>\n",
              "      <th>skills</th>\n",
              "      <th>date</th>\n",
              "      <th>applicants</th>\n",
              "    </tr>\n",
              "  </thead>\n",
              "  <tbody>\n",
              "    <tr>\n",
              "      <th>0</th>\n",
              "      <td>Data Analyst</td>\n",
              "      <td>Basel</td>\n",
              "      <td>Switzerland</td>\n",
              "      <td>On-site</td>\n",
              "      <td>PharmiWeb.Jobs: Global Life Science Jobs</td>\n",
              "      <td>11-50 employees</td>\n",
              "      <td>Staffing &amp; Recruiting</td>\n",
              "      <td>[data mining, excel, sap, sas, spss, sql, stat...</td>\n",
              "      <td>1 week ago</td>\n",
              "      <td>47</td>\n",
              "    </tr>\n",
              "    <tr>\n",
              "      <th>1</th>\n",
              "      <td>Data Analyst - Logistics</td>\n",
              "      <td>Coventry</td>\n",
              "      <td>United Kingdom</td>\n",
              "      <td>On-site</td>\n",
              "      <td>NaN</td>\n",
              "      <td>NaN</td>\n",
              "      <td>NaN</td>\n",
              "      <td>[]</td>\n",
              "      <td>1 week ago</td>\n",
              "      <td>NaN</td>\n",
              "    </tr>\n",
              "    <tr>\n",
              "      <th>2</th>\n",
              "      <td>Data Analyst - Logistics</td>\n",
              "      <td>Coventry</td>\n",
              "      <td>United Kingdom</td>\n",
              "      <td>On-site</td>\n",
              "      <td>NaN</td>\n",
              "      <td>NaN</td>\n",
              "      <td>NaN</td>\n",
              "      <td>[wfh]</td>\n",
              "      <td>1 week ago</td>\n",
              "      <td>NaN</td>\n",
              "    </tr>\n",
              "    <tr>\n",
              "      <th>3</th>\n",
              "      <td>Data Analyst (Space &amp; Planning)</td>\n",
              "      <td>South Molton</td>\n",
              "      <td>United Kingdom</td>\n",
              "      <td>On-site</td>\n",
              "      <td>NaN</td>\n",
              "      <td>NaN</td>\n",
              "      <td>NaN</td>\n",
              "      <td>[excel]</td>\n",
              "      <td>1 week ago</td>\n",
              "      <td>NaN</td>\n",
              "    </tr>\n",
              "    <tr>\n",
              "      <th>4</th>\n",
              "      <td>Data Analyst</td>\n",
              "      <td>Lugano</td>\n",
              "      <td>Switzerland</td>\n",
              "      <td>On-site</td>\n",
              "      <td>NaN</td>\n",
              "      <td>NaN</td>\n",
              "      <td>NaN</td>\n",
              "      <td>[aws, data warehouse, etl, gcp, oracle, oracle...</td>\n",
              "      <td>2 weeks ago</td>\n",
              "      <td>NaN</td>\n",
              "    </tr>\n",
              "  </tbody>\n",
              "</table>\n",
              "</div>\n",
              "      <button class=\"colab-df-convert\" onclick=\"convertToInteractive('df-4bcbe3e9-d89e-456d-9d8e-b3725ca6c99f')\"\n",
              "              title=\"Convert this dataframe to an interactive table.\"\n",
              "              style=\"display:none;\">\n",
              "        \n",
              "  <svg xmlns=\"http://www.w3.org/2000/svg\" height=\"24px\"viewBox=\"0 0 24 24\"\n",
              "       width=\"24px\">\n",
              "    <path d=\"M0 0h24v24H0V0z\" fill=\"none\"/>\n",
              "    <path d=\"M18.56 5.44l.94 2.06.94-2.06 2.06-.94-2.06-.94-.94-2.06-.94 2.06-2.06.94zm-11 1L8.5 8.5l.94-2.06 2.06-.94-2.06-.94L8.5 2.5l-.94 2.06-2.06.94zm10 10l.94 2.06.94-2.06 2.06-.94-2.06-.94-.94-2.06-.94 2.06-2.06.94z\"/><path d=\"M17.41 7.96l-1.37-1.37c-.4-.4-.92-.59-1.43-.59-.52 0-1.04.2-1.43.59L10.3 9.45l-7.72 7.72c-.78.78-.78 2.05 0 2.83L4 21.41c.39.39.9.59 1.41.59.51 0 1.02-.2 1.41-.59l7.78-7.78 2.81-2.81c.8-.78.8-2.07 0-2.86zM5.41 20L4 18.59l7.72-7.72 1.47 1.35L5.41 20z\"/>\n",
              "  </svg>\n",
              "      </button>\n",
              "      \n",
              "  <style>\n",
              "    .colab-df-container {\n",
              "      display:flex;\n",
              "      flex-wrap:wrap;\n",
              "      gap: 12px;\n",
              "    }\n",
              "\n",
              "    .colab-df-convert {\n",
              "      background-color: #E8F0FE;\n",
              "      border: none;\n",
              "      border-radius: 50%;\n",
              "      cursor: pointer;\n",
              "      display: none;\n",
              "      fill: #1967D2;\n",
              "      height: 32px;\n",
              "      padding: 0 0 0 0;\n",
              "      width: 32px;\n",
              "    }\n",
              "\n",
              "    .colab-df-convert:hover {\n",
              "      background-color: #E2EBFA;\n",
              "      box-shadow: 0px 1px 2px rgba(60, 64, 67, 0.3), 0px 1px 3px 1px rgba(60, 64, 67, 0.15);\n",
              "      fill: #174EA6;\n",
              "    }\n",
              "\n",
              "    [theme=dark] .colab-df-convert {\n",
              "      background-color: #3B4455;\n",
              "      fill: #D2E3FC;\n",
              "    }\n",
              "\n",
              "    [theme=dark] .colab-df-convert:hover {\n",
              "      background-color: #434B5C;\n",
              "      box-shadow: 0px 1px 3px 1px rgba(0, 0, 0, 0.15);\n",
              "      filter: drop-shadow(0px 1px 2px rgba(0, 0, 0, 0.3));\n",
              "      fill: #FFFFFF;\n",
              "    }\n",
              "  </style>\n",
              "\n",
              "      <script>\n",
              "        const buttonEl =\n",
              "          document.querySelector('#df-4bcbe3e9-d89e-456d-9d8e-b3725ca6c99f button.colab-df-convert');\n",
              "        buttonEl.style.display =\n",
              "          google.colab.kernel.accessAllowed ? 'block' : 'none';\n",
              "\n",
              "        async function convertToInteractive(key) {\n",
              "          const element = document.querySelector('#df-4bcbe3e9-d89e-456d-9d8e-b3725ca6c99f');\n",
              "          const dataTable =\n",
              "            await google.colab.kernel.invokeFunction('convertToInteractive',\n",
              "                                                     [key], {});\n",
              "          if (!dataTable) return;\n",
              "\n",
              "          const docLinkHtml = 'Like what you see? Visit the ' +\n",
              "            '<a target=\"_blank\" href=https://colab.research.google.com/notebooks/data_table.ipynb>data table notebook</a>'\n",
              "            + ' to learn more about interactive tables.';\n",
              "          element.innerHTML = '';\n",
              "          dataTable['output_type'] = 'display_data';\n",
              "          await google.colab.output.renderOutput(dataTable, element);\n",
              "          const docLink = document.createElement('div');\n",
              "          docLink.innerHTML = docLinkHtml;\n",
              "          element.appendChild(docLink);\n",
              "        }\n",
              "      </script>\n",
              "    </div>\n",
              "  </div>\n",
              "  "
            ]
          },
          "metadata": {},
          "execution_count": 25
        }
      ]
    },
    {
      "cell_type": "code",
      "source": [
        "# Выведем тип данных\n",
        "result_df.info()"
      ],
      "metadata": {
        "colab": {
          "base_uri": "https://localhost:8080/"
        },
        "id": "67XMTZcVGujQ",
        "outputId": "67b81188-eb20-46f7-fa19-3d24da55cc97"
      },
      "execution_count": null,
      "outputs": [
        {
          "output_type": "stream",
          "name": "stdout",
          "text": [
            "<class 'pandas.core.frame.DataFrame'>\n",
            "RangeIndex: 998 entries, 0 to 997\n",
            "Data columns (total 10 columns):\n",
            " #   Column           Non-Null Count  Dtype \n",
            "---  ------           --------------  ----- \n",
            " 0   title            998 non-null    object\n",
            " 1   city             998 non-null    object\n",
            " 2   country          998 non-null    object\n",
            " 3   employment_type  930 non-null    object\n",
            " 4   company_name     969 non-null    object\n",
            " 5   employee_qty     964 non-null    object\n",
            " 6   company_field    964 non-null    object\n",
            " 7   skills           998 non-null    object\n",
            " 8   date             998 non-null    object\n",
            " 9   applicants       838 non-null    object\n",
            "dtypes: object(10)\n",
            "memory usage: 78.1+ KB\n"
          ]
        }
      ]
    },
    {
      "cell_type": "code",
      "source": [
        "# Поменяем applicants на int64, чтобы учесть пропуски\n",
        "result_df['applicants'] = result_df['applicants'].astype('Int64')"
      ],
      "metadata": {
        "id": "rkFRUhS2zeVE"
      },
      "execution_count": null,
      "outputs": []
    },
    {
      "cell_type": "code",
      "source": [
        "# Посмотрим на даты\n",
        "result_df['date'].unique()"
      ],
      "metadata": {
        "colab": {
          "base_uri": "https://localhost:8080/"
        },
        "id": "8xol6NlEzsTY",
        "outputId": "5f1212a4-38b4-454f-da45-03844987c637"
      },
      "execution_count": null,
      "outputs": [
        {
          "output_type": "execute_result",
          "data": {
            "text/plain": [
              "array(['1 week ago', '2 weeks ago', '6 days ago', '3 weeks ago',\n",
              "       '2 days ago', '1 day ago', '4 days ago', '4 weeks ago',\n",
              "       '3 days ago', '5 days ago', '12 minutes ago', '29 minutes ago',\n",
              "       '5 hours ago', '8 hours ago', '6 hours ago', '9 hours ago',\n",
              "       '11 hours ago', '12 hours ago', '7 hours ago', '10 hours ago'],\n",
              "      dtype=object)"
            ]
          },
          "metadata": {},
          "execution_count": 29
        }
      ]
    },
    {
      "cell_type": "code",
      "source": [
        "# Создадим фукнцию для конвертации дат\n",
        "def convert_to_date(s):\n",
        "    # Текущая дата\n",
        "    current_date = datetime.strptime('2023-05-23', '%Y-%m-%d')\n",
        "\n",
        "    # Разобьем данные\n",
        "    num, unit, *_ = s.split()\n",
        "    num = int(num)\n",
        "\n",
        "    # Вычтем время\n",
        "    if unit.startswith('minute'):\n",
        "        date = current_date - relativedelta(minutes=num)\n",
        "    elif unit.startswith('hour'):\n",
        "        date = current_date - relativedelta(hours=num)\n",
        "    elif unit.startswith('day'):\n",
        "        date = current_date - relativedelta(days=num)\n",
        "    elif unit.startswith('week'):\n",
        "        date = current_date - relativedelta(weeks=num)\n",
        "\n",
        "    return date.date()\n",
        "\n",
        "# Применим функцию\n",
        "result_df['date'] = result_df['date'].apply(convert_to_date)"
      ],
      "metadata": {
        "id": "iyxUtj_rz53e"
      },
      "execution_count": null,
      "outputs": []
    },
    {
      "cell_type": "code",
      "source": [
        "# Конвертируем дату в datetime\n",
        "result_df['date'] = pd.to_datetime(result_df['date'])\n",
        "result_df.info()"
      ],
      "metadata": {
        "colab": {
          "base_uri": "https://localhost:8080/"
        },
        "id": "WQP6l7VL0UY8",
        "outputId": "e82f77d0-fc0f-480a-e91c-f3f19e81b3bf"
      },
      "execution_count": null,
      "outputs": [
        {
          "output_type": "stream",
          "name": "stdout",
          "text": [
            "<class 'pandas.core.frame.DataFrame'>\n",
            "RangeIndex: 998 entries, 0 to 997\n",
            "Data columns (total 10 columns):\n",
            " #   Column           Non-Null Count  Dtype         \n",
            "---  ------           --------------  -----         \n",
            " 0   title            998 non-null    object        \n",
            " 1   city             998 non-null    object        \n",
            " 2   country          998 non-null    object        \n",
            " 3   employment_type  930 non-null    object        \n",
            " 4   company_name     969 non-null    object        \n",
            " 5   employee_qty     964 non-null    object        \n",
            " 6   company_field    964 non-null    object        \n",
            " 7   skills           998 non-null    object        \n",
            " 8   date             998 non-null    datetime64[ns]\n",
            " 9   applicants       838 non-null    Int64         \n",
            "dtypes: Int64(1), datetime64[ns](1), object(8)\n",
            "memory usage: 79.1+ KB\n"
          ]
        }
      ]
    },
    {
      "cell_type": "code",
      "source": [
        "# Заменим пустые списки в 'skills' на np.nan\n",
        "result_df['skills'] = result_df['skills'].apply(lambda x: np.nan if not x else x)\n",
        "\n",
        "result_df.head()"
      ],
      "metadata": {
        "colab": {
          "base_uri": "https://localhost:8080/",
          "height": 204
        },
        "id": "SnpkkMQV0Wrr",
        "outputId": "634d2aa4-3863-48cd-bb56-0b52914f5202"
      },
      "execution_count": null,
      "outputs": [
        {
          "output_type": "execute_result",
          "data": {
            "text/plain": [
              "                             title          city          country  \\\n",
              "0                     Data Analyst         Basel      Switzerland   \n",
              "1         Data Analyst - Logistics      Coventry   United Kingdom   \n",
              "2         Data Analyst - Logistics      Coventry   United Kingdom   \n",
              "3  Data Analyst (Space & Planning)  South Molton   United Kingdom   \n",
              "4                     Data Analyst        Lugano      Switzerland   \n",
              "\n",
              "  employment_type                              company_name     employee_qty  \\\n",
              "0         On-site  PharmiWeb.Jobs: Global Life Science Jobs  11-50 employees   \n",
              "1         On-site                                       NaN              NaN   \n",
              "2         On-site                                       NaN              NaN   \n",
              "3         On-site                                       NaN              NaN   \n",
              "4         On-site                                       NaN              NaN   \n",
              "\n",
              "           company_field                                             skills  \\\n",
              "0  Staffing & Recruiting  [data mining, excel, sap, sas, spss, sql, stat...   \n",
              "1                    NaN                                                NaN   \n",
              "2                    NaN                                              [wfh]   \n",
              "3                    NaN                                            [excel]   \n",
              "4                    NaN  [aws, data warehouse, etl, gcp, oracle, oracle...   \n",
              "\n",
              "        date  applicants  \n",
              "0 2023-05-16          47  \n",
              "1 2023-05-16        <NA>  \n",
              "2 2023-05-16        <NA>  \n",
              "3 2023-05-16        <NA>  \n",
              "4 2023-05-09        <NA>  "
            ],
            "text/html": [
              "\n",
              "  <div id=\"df-6d0fe9ed-d1a4-4634-af66-a32e1c7d2dbc\">\n",
              "    <div class=\"colab-df-container\">\n",
              "      <div>\n",
              "<style scoped>\n",
              "    .dataframe tbody tr th:only-of-type {\n",
              "        vertical-align: middle;\n",
              "    }\n",
              "\n",
              "    .dataframe tbody tr th {\n",
              "        vertical-align: top;\n",
              "    }\n",
              "\n",
              "    .dataframe thead th {\n",
              "        text-align: right;\n",
              "    }\n",
              "</style>\n",
              "<table border=\"1\" class=\"dataframe\">\n",
              "  <thead>\n",
              "    <tr style=\"text-align: right;\">\n",
              "      <th></th>\n",
              "      <th>title</th>\n",
              "      <th>city</th>\n",
              "      <th>country</th>\n",
              "      <th>employment_type</th>\n",
              "      <th>company_name</th>\n",
              "      <th>employee_qty</th>\n",
              "      <th>company_field</th>\n",
              "      <th>skills</th>\n",
              "      <th>date</th>\n",
              "      <th>applicants</th>\n",
              "    </tr>\n",
              "  </thead>\n",
              "  <tbody>\n",
              "    <tr>\n",
              "      <th>0</th>\n",
              "      <td>Data Analyst</td>\n",
              "      <td>Basel</td>\n",
              "      <td>Switzerland</td>\n",
              "      <td>On-site</td>\n",
              "      <td>PharmiWeb.Jobs: Global Life Science Jobs</td>\n",
              "      <td>11-50 employees</td>\n",
              "      <td>Staffing &amp; Recruiting</td>\n",
              "      <td>[data mining, excel, sap, sas, spss, sql, stat...</td>\n",
              "      <td>2023-05-16</td>\n",
              "      <td>47</td>\n",
              "    </tr>\n",
              "    <tr>\n",
              "      <th>1</th>\n",
              "      <td>Data Analyst - Logistics</td>\n",
              "      <td>Coventry</td>\n",
              "      <td>United Kingdom</td>\n",
              "      <td>On-site</td>\n",
              "      <td>NaN</td>\n",
              "      <td>NaN</td>\n",
              "      <td>NaN</td>\n",
              "      <td>NaN</td>\n",
              "      <td>2023-05-16</td>\n",
              "      <td>&lt;NA&gt;</td>\n",
              "    </tr>\n",
              "    <tr>\n",
              "      <th>2</th>\n",
              "      <td>Data Analyst - Logistics</td>\n",
              "      <td>Coventry</td>\n",
              "      <td>United Kingdom</td>\n",
              "      <td>On-site</td>\n",
              "      <td>NaN</td>\n",
              "      <td>NaN</td>\n",
              "      <td>NaN</td>\n",
              "      <td>[wfh]</td>\n",
              "      <td>2023-05-16</td>\n",
              "      <td>&lt;NA&gt;</td>\n",
              "    </tr>\n",
              "    <tr>\n",
              "      <th>3</th>\n",
              "      <td>Data Analyst (Space &amp; Planning)</td>\n",
              "      <td>South Molton</td>\n",
              "      <td>United Kingdom</td>\n",
              "      <td>On-site</td>\n",
              "      <td>NaN</td>\n",
              "      <td>NaN</td>\n",
              "      <td>NaN</td>\n",
              "      <td>[excel]</td>\n",
              "      <td>2023-05-16</td>\n",
              "      <td>&lt;NA&gt;</td>\n",
              "    </tr>\n",
              "    <tr>\n",
              "      <th>4</th>\n",
              "      <td>Data Analyst</td>\n",
              "      <td>Lugano</td>\n",
              "      <td>Switzerland</td>\n",
              "      <td>On-site</td>\n",
              "      <td>NaN</td>\n",
              "      <td>NaN</td>\n",
              "      <td>NaN</td>\n",
              "      <td>[aws, data warehouse, etl, gcp, oracle, oracle...</td>\n",
              "      <td>2023-05-09</td>\n",
              "      <td>&lt;NA&gt;</td>\n",
              "    </tr>\n",
              "  </tbody>\n",
              "</table>\n",
              "</div>\n",
              "      <button class=\"colab-df-convert\" onclick=\"convertToInteractive('df-6d0fe9ed-d1a4-4634-af66-a32e1c7d2dbc')\"\n",
              "              title=\"Convert this dataframe to an interactive table.\"\n",
              "              style=\"display:none;\">\n",
              "        \n",
              "  <svg xmlns=\"http://www.w3.org/2000/svg\" height=\"24px\"viewBox=\"0 0 24 24\"\n",
              "       width=\"24px\">\n",
              "    <path d=\"M0 0h24v24H0V0z\" fill=\"none\"/>\n",
              "    <path d=\"M18.56 5.44l.94 2.06.94-2.06 2.06-.94-2.06-.94-.94-2.06-.94 2.06-2.06.94zm-11 1L8.5 8.5l.94-2.06 2.06-.94-2.06-.94L8.5 2.5l-.94 2.06-2.06.94zm10 10l.94 2.06.94-2.06 2.06-.94-2.06-.94-.94-2.06-.94 2.06-2.06.94z\"/><path d=\"M17.41 7.96l-1.37-1.37c-.4-.4-.92-.59-1.43-.59-.52 0-1.04.2-1.43.59L10.3 9.45l-7.72 7.72c-.78.78-.78 2.05 0 2.83L4 21.41c.39.39.9.59 1.41.59.51 0 1.02-.2 1.41-.59l7.78-7.78 2.81-2.81c.8-.78.8-2.07 0-2.86zM5.41 20L4 18.59l7.72-7.72 1.47 1.35L5.41 20z\"/>\n",
              "  </svg>\n",
              "      </button>\n",
              "      \n",
              "  <style>\n",
              "    .colab-df-container {\n",
              "      display:flex;\n",
              "      flex-wrap:wrap;\n",
              "      gap: 12px;\n",
              "    }\n",
              "\n",
              "    .colab-df-convert {\n",
              "      background-color: #E8F0FE;\n",
              "      border: none;\n",
              "      border-radius: 50%;\n",
              "      cursor: pointer;\n",
              "      display: none;\n",
              "      fill: #1967D2;\n",
              "      height: 32px;\n",
              "      padding: 0 0 0 0;\n",
              "      width: 32px;\n",
              "    }\n",
              "\n",
              "    .colab-df-convert:hover {\n",
              "      background-color: #E2EBFA;\n",
              "      box-shadow: 0px 1px 2px rgba(60, 64, 67, 0.3), 0px 1px 3px 1px rgba(60, 64, 67, 0.15);\n",
              "      fill: #174EA6;\n",
              "    }\n",
              "\n",
              "    [theme=dark] .colab-df-convert {\n",
              "      background-color: #3B4455;\n",
              "      fill: #D2E3FC;\n",
              "    }\n",
              "\n",
              "    [theme=dark] .colab-df-convert:hover {\n",
              "      background-color: #434B5C;\n",
              "      box-shadow: 0px 1px 3px 1px rgba(0, 0, 0, 0.15);\n",
              "      filter: drop-shadow(0px 1px 2px rgba(0, 0, 0, 0.3));\n",
              "      fill: #FFFFFF;\n",
              "    }\n",
              "  </style>\n",
              "\n",
              "      <script>\n",
              "        const buttonEl =\n",
              "          document.querySelector('#df-6d0fe9ed-d1a4-4634-af66-a32e1c7d2dbc button.colab-df-convert');\n",
              "        buttonEl.style.display =\n",
              "          google.colab.kernel.accessAllowed ? 'block' : 'none';\n",
              "\n",
              "        async function convertToInteractive(key) {\n",
              "          const element = document.querySelector('#df-6d0fe9ed-d1a4-4634-af66-a32e1c7d2dbc');\n",
              "          const dataTable =\n",
              "            await google.colab.kernel.invokeFunction('convertToInteractive',\n",
              "                                                     [key], {});\n",
              "          if (!dataTable) return;\n",
              "\n",
              "          const docLinkHtml = 'Like what you see? Visit the ' +\n",
              "            '<a target=\"_blank\" href=https://colab.research.google.com/notebooks/data_table.ipynb>data table notebook</a>'\n",
              "            + ' to learn more about interactive tables.';\n",
              "          element.innerHTML = '';\n",
              "          dataTable['output_type'] = 'display_data';\n",
              "          await google.colab.output.renderOutput(dataTable, element);\n",
              "          const docLink = document.createElement('div');\n",
              "          docLink.innerHTML = docLinkHtml;\n",
              "          element.appendChild(docLink);\n",
              "        }\n",
              "      </script>\n",
              "    </div>\n",
              "  </div>\n",
              "  "
            ]
          },
          "metadata": {},
          "execution_count": 32
        }
      ]
    },
    {
      "cell_type": "markdown",
      "source": [
        "## Подготовка данных к визуализации"
      ],
      "metadata": {
        "id": "1F47e2sE7v7T"
      }
    },
    {
      "cell_type": "markdown",
      "source": [
        "1. Проверить данные на дубликаты и не релевантные заданию вакансии."
      ],
      "metadata": {
        "id": "ef6JzkPg7yaq"
      }
    },
    {
      "cell_type": "code",
      "source": [
        "# Проверим на дубликаты, но без столбца скиллы, тк это список\n",
        "cols_except_skills = [col for col in result_df.columns if col != 'skills']\n",
        "\n",
        "num_duplicates = result_df[cols_except_skills].duplicated().sum()\n",
        "\n",
        "print(num_duplicates)"
      ],
      "metadata": {
        "colab": {
          "base_uri": "https://localhost:8080/"
        },
        "id": "qdMVOj3wCZki",
        "outputId": "3c8edf4b-9001-4fdc-97d2-a53a496fb5ff"
      },
      "execution_count": null,
      "outputs": [
        {
          "output_type": "stream",
          "name": "stdout",
          "text": [
            "112\n"
          ]
        }
      ]
    },
    {
      "cell_type": "code",
      "source": [
        "# Удалите дубликаты\n",
        "result_df = result_df.drop_duplicates(subset=cols_except_skills)"
      ],
      "metadata": {
        "id": "dvNYrwG0DPZs"
      },
      "execution_count": null,
      "outputs": []
    },
    {
      "cell_type": "code",
      "source": [
        "# Сделаем список названий вакансий, которые нужно оставить\n",
        "search_terms = ['data analyst', 'bi', 'business intelligence', 'data', 'Analista de datos', 'datos', 'Datový analytik', 'Business Analyst']\n",
        "search_terms = [term.lower() for term in search_terms]\n",
        "\n",
        "# Проверим если столбец title их содержит\n",
        "contains_terms = result_df['title'].str.lower().apply(lambda title: any(term in title for term in search_terms))\n",
        "\n",
        "# Оставим только те данные, которые имеют необходимые должности\n",
        "result_df = result_df[contains_terms]\n",
        "result_df.info()"
      ],
      "metadata": {
        "colab": {
          "base_uri": "https://localhost:8080/"
        },
        "id": "IlphT9Gf_KN5",
        "outputId": "5ef7ec2f-6a59-44f9-e38b-7d271ef15ab0"
      },
      "execution_count": null,
      "outputs": [
        {
          "output_type": "stream",
          "name": "stdout",
          "text": [
            "<class 'pandas.core.frame.DataFrame'>\n",
            "Int64Index: 709 entries, 0 to 997\n",
            "Data columns (total 10 columns):\n",
            " #   Column           Non-Null Count  Dtype         \n",
            "---  ------           --------------  -----         \n",
            " 0   title            709 non-null    object        \n",
            " 1   city             709 non-null    object        \n",
            " 2   country          709 non-null    object        \n",
            " 3   employment_type  654 non-null    object        \n",
            " 4   company_name     682 non-null    object        \n",
            " 5   employee_qty     677 non-null    object        \n",
            " 6   company_field    677 non-null    object        \n",
            " 7   skills           651 non-null    object        \n",
            " 8   date             709 non-null    datetime64[ns]\n",
            " 9   applicants       571 non-null    Int64         \n",
            "dtypes: Int64(1), datetime64[ns](1), object(8)\n",
            "memory usage: 61.6+ KB\n"
          ]
        }
      ]
    },
    {
      "cell_type": "markdown",
      "source": [
        "Вывод: 998 было записей, осталось 709."
      ],
      "metadata": {
        "id": "Xrss5iGuCAVJ"
      }
    },
    {
      "cell_type": "markdown",
      "source": [
        "2. Подготовка датасета к визуализации"
      ],
      "metadata": {
        "id": "hYPSMgFZ73DR"
      }
    },
    {
      "cell_type": "code",
      "source": [
        "# Используем метод explode для конвертации списка в столбце skills\n",
        "tableau_df = result_df.reset_index(drop=True).explode('skills')\n",
        "tableau_df.head()"
      ],
      "metadata": {
        "id": "sdmBFUbLMMQo",
        "colab": {
          "base_uri": "https://localhost:8080/",
          "height": 242
        },
        "outputId": "18bcaa91-8e93-45ca-fc6b-0bf8c5b707b3"
      },
      "execution_count": null,
      "outputs": [
        {
          "output_type": "execute_result",
          "data": {
            "text/plain": [
              "          title   city       country employment_type  \\\n",
              "0  Data Analyst  Basel   Switzerland         On-site   \n",
              "0  Data Analyst  Basel   Switzerland         On-site   \n",
              "0  Data Analyst  Basel   Switzerland         On-site   \n",
              "0  Data Analyst  Basel   Switzerland         On-site   \n",
              "0  Data Analyst  Basel   Switzerland         On-site   \n",
              "\n",
              "                               company_name     employee_qty  \\\n",
              "0  PharmiWeb.Jobs: Global Life Science Jobs  11-50 employees   \n",
              "0  PharmiWeb.Jobs: Global Life Science Jobs  11-50 employees   \n",
              "0  PharmiWeb.Jobs: Global Life Science Jobs  11-50 employees   \n",
              "0  PharmiWeb.Jobs: Global Life Science Jobs  11-50 employees   \n",
              "0  PharmiWeb.Jobs: Global Life Science Jobs  11-50 employees   \n",
              "\n",
              "           company_field       skills       date  applicants  \n",
              "0  Staffing & Recruiting  data mining 2023-05-16          47  \n",
              "0  Staffing & Recruiting        excel 2023-05-16          47  \n",
              "0  Staffing & Recruiting          sap 2023-05-16          47  \n",
              "0  Staffing & Recruiting          sas 2023-05-16          47  \n",
              "0  Staffing & Recruiting         spss 2023-05-16          47  "
            ],
            "text/html": [
              "\n",
              "  <div id=\"df-60f57b79-5684-42e3-bc95-f40aa76a55b6\">\n",
              "    <div class=\"colab-df-container\">\n",
              "      <div>\n",
              "<style scoped>\n",
              "    .dataframe tbody tr th:only-of-type {\n",
              "        vertical-align: middle;\n",
              "    }\n",
              "\n",
              "    .dataframe tbody tr th {\n",
              "        vertical-align: top;\n",
              "    }\n",
              "\n",
              "    .dataframe thead th {\n",
              "        text-align: right;\n",
              "    }\n",
              "</style>\n",
              "<table border=\"1\" class=\"dataframe\">\n",
              "  <thead>\n",
              "    <tr style=\"text-align: right;\">\n",
              "      <th></th>\n",
              "      <th>title</th>\n",
              "      <th>city</th>\n",
              "      <th>country</th>\n",
              "      <th>employment_type</th>\n",
              "      <th>company_name</th>\n",
              "      <th>employee_qty</th>\n",
              "      <th>company_field</th>\n",
              "      <th>skills</th>\n",
              "      <th>date</th>\n",
              "      <th>applicants</th>\n",
              "    </tr>\n",
              "  </thead>\n",
              "  <tbody>\n",
              "    <tr>\n",
              "      <th>0</th>\n",
              "      <td>Data Analyst</td>\n",
              "      <td>Basel</td>\n",
              "      <td>Switzerland</td>\n",
              "      <td>On-site</td>\n",
              "      <td>PharmiWeb.Jobs: Global Life Science Jobs</td>\n",
              "      <td>11-50 employees</td>\n",
              "      <td>Staffing &amp; Recruiting</td>\n",
              "      <td>data mining</td>\n",
              "      <td>2023-05-16</td>\n",
              "      <td>47</td>\n",
              "    </tr>\n",
              "    <tr>\n",
              "      <th>0</th>\n",
              "      <td>Data Analyst</td>\n",
              "      <td>Basel</td>\n",
              "      <td>Switzerland</td>\n",
              "      <td>On-site</td>\n",
              "      <td>PharmiWeb.Jobs: Global Life Science Jobs</td>\n",
              "      <td>11-50 employees</td>\n",
              "      <td>Staffing &amp; Recruiting</td>\n",
              "      <td>excel</td>\n",
              "      <td>2023-05-16</td>\n",
              "      <td>47</td>\n",
              "    </tr>\n",
              "    <tr>\n",
              "      <th>0</th>\n",
              "      <td>Data Analyst</td>\n",
              "      <td>Basel</td>\n",
              "      <td>Switzerland</td>\n",
              "      <td>On-site</td>\n",
              "      <td>PharmiWeb.Jobs: Global Life Science Jobs</td>\n",
              "      <td>11-50 employees</td>\n",
              "      <td>Staffing &amp; Recruiting</td>\n",
              "      <td>sap</td>\n",
              "      <td>2023-05-16</td>\n",
              "      <td>47</td>\n",
              "    </tr>\n",
              "    <tr>\n",
              "      <th>0</th>\n",
              "      <td>Data Analyst</td>\n",
              "      <td>Basel</td>\n",
              "      <td>Switzerland</td>\n",
              "      <td>On-site</td>\n",
              "      <td>PharmiWeb.Jobs: Global Life Science Jobs</td>\n",
              "      <td>11-50 employees</td>\n",
              "      <td>Staffing &amp; Recruiting</td>\n",
              "      <td>sas</td>\n",
              "      <td>2023-05-16</td>\n",
              "      <td>47</td>\n",
              "    </tr>\n",
              "    <tr>\n",
              "      <th>0</th>\n",
              "      <td>Data Analyst</td>\n",
              "      <td>Basel</td>\n",
              "      <td>Switzerland</td>\n",
              "      <td>On-site</td>\n",
              "      <td>PharmiWeb.Jobs: Global Life Science Jobs</td>\n",
              "      <td>11-50 employees</td>\n",
              "      <td>Staffing &amp; Recruiting</td>\n",
              "      <td>spss</td>\n",
              "      <td>2023-05-16</td>\n",
              "      <td>47</td>\n",
              "    </tr>\n",
              "  </tbody>\n",
              "</table>\n",
              "</div>\n",
              "      <button class=\"colab-df-convert\" onclick=\"convertToInteractive('df-60f57b79-5684-42e3-bc95-f40aa76a55b6')\"\n",
              "              title=\"Convert this dataframe to an interactive table.\"\n",
              "              style=\"display:none;\">\n",
              "        \n",
              "  <svg xmlns=\"http://www.w3.org/2000/svg\" height=\"24px\"viewBox=\"0 0 24 24\"\n",
              "       width=\"24px\">\n",
              "    <path d=\"M0 0h24v24H0V0z\" fill=\"none\"/>\n",
              "    <path d=\"M18.56 5.44l.94 2.06.94-2.06 2.06-.94-2.06-.94-.94-2.06-.94 2.06-2.06.94zm-11 1L8.5 8.5l.94-2.06 2.06-.94-2.06-.94L8.5 2.5l-.94 2.06-2.06.94zm10 10l.94 2.06.94-2.06 2.06-.94-2.06-.94-.94-2.06-.94 2.06-2.06.94z\"/><path d=\"M17.41 7.96l-1.37-1.37c-.4-.4-.92-.59-1.43-.59-.52 0-1.04.2-1.43.59L10.3 9.45l-7.72 7.72c-.78.78-.78 2.05 0 2.83L4 21.41c.39.39.9.59 1.41.59.51 0 1.02-.2 1.41-.59l7.78-7.78 2.81-2.81c.8-.78.8-2.07 0-2.86zM5.41 20L4 18.59l7.72-7.72 1.47 1.35L5.41 20z\"/>\n",
              "  </svg>\n",
              "      </button>\n",
              "      \n",
              "  <style>\n",
              "    .colab-df-container {\n",
              "      display:flex;\n",
              "      flex-wrap:wrap;\n",
              "      gap: 12px;\n",
              "    }\n",
              "\n",
              "    .colab-df-convert {\n",
              "      background-color: #E8F0FE;\n",
              "      border: none;\n",
              "      border-radius: 50%;\n",
              "      cursor: pointer;\n",
              "      display: none;\n",
              "      fill: #1967D2;\n",
              "      height: 32px;\n",
              "      padding: 0 0 0 0;\n",
              "      width: 32px;\n",
              "    }\n",
              "\n",
              "    .colab-df-convert:hover {\n",
              "      background-color: #E2EBFA;\n",
              "      box-shadow: 0px 1px 2px rgba(60, 64, 67, 0.3), 0px 1px 3px 1px rgba(60, 64, 67, 0.15);\n",
              "      fill: #174EA6;\n",
              "    }\n",
              "\n",
              "    [theme=dark] .colab-df-convert {\n",
              "      background-color: #3B4455;\n",
              "      fill: #D2E3FC;\n",
              "    }\n",
              "\n",
              "    [theme=dark] .colab-df-convert:hover {\n",
              "      background-color: #434B5C;\n",
              "      box-shadow: 0px 1px 3px 1px rgba(0, 0, 0, 0.15);\n",
              "      filter: drop-shadow(0px 1px 2px rgba(0, 0, 0, 0.3));\n",
              "      fill: #FFFFFF;\n",
              "    }\n",
              "  </style>\n",
              "\n",
              "      <script>\n",
              "        const buttonEl =\n",
              "          document.querySelector('#df-60f57b79-5684-42e3-bc95-f40aa76a55b6 button.colab-df-convert');\n",
              "        buttonEl.style.display =\n",
              "          google.colab.kernel.accessAllowed ? 'block' : 'none';\n",
              "\n",
              "        async function convertToInteractive(key) {\n",
              "          const element = document.querySelector('#df-60f57b79-5684-42e3-bc95-f40aa76a55b6');\n",
              "          const dataTable =\n",
              "            await google.colab.kernel.invokeFunction('convertToInteractive',\n",
              "                                                     [key], {});\n",
              "          if (!dataTable) return;\n",
              "\n",
              "          const docLinkHtml = 'Like what you see? Visit the ' +\n",
              "            '<a target=\"_blank\" href=https://colab.research.google.com/notebooks/data_table.ipynb>data table notebook</a>'\n",
              "            + ' to learn more about interactive tables.';\n",
              "          element.innerHTML = '';\n",
              "          dataTable['output_type'] = 'display_data';\n",
              "          await google.colab.output.renderOutput(dataTable, element);\n",
              "          const docLink = document.createElement('div');\n",
              "          docLink.innerHTML = docLinkHtml;\n",
              "          element.appendChild(docLink);\n",
              "        }\n",
              "      </script>\n",
              "    </div>\n",
              "  </div>\n",
              "  "
            ]
          },
          "metadata": {},
          "execution_count": 36
        }
      ]
    },
    {
      "cell_type": "code",
      "source": [
        "# Загрузим CSV\n",
        "tableau_df.to_csv('linkedin.csv', index=False)"
      ],
      "metadata": {
        "id": "A2NpIvqoID7O"
      },
      "execution_count": null,
      "outputs": []
    },
    {
      "cell_type": "markdown",
      "source": [
        "## Ссылка на дашборд"
      ],
      "metadata": {
        "id": "82pOzMZ_96Ah"
      }
    },
    {
      "cell_type": "markdown",
      "source": [
        "Ссылка на дашборд: <https://public.tableau.com/shared/8BDS8T8BR?:display_count=n&:origin=viz_share_link>"
      ],
      "metadata": {
        "id": "-mL4xGK299iB"
      }
    }
  ]
}